{
 "cells": [
  {
   "cell_type": "code",
   "execution_count": 100,
   "metadata": {},
   "outputs": [],
   "source": [
    "# Importing the libraries\n",
    "import numpy as np\n",
    "import matplotlib.pyplot as plt\n",
    "import pandas as pd"
   ]
  },
  {
   "cell_type": "code",
   "execution_count": 101,
   "metadata": {},
   "outputs": [],
   "source": [
    "# Importing the dataset\n",
    "dataset = pd.read_csv('dataset.csv')"
   ]
  },
  {
   "cell_type": "code",
   "execution_count": 102,
   "metadata": {},
   "outputs": [
    {
     "name": "stdout",
     "output_type": "stream",
     "text": [
      "     year  month  day  offset  meat  bread  onion  eggs  milk\n",
      "0    2019      8   24       1     1      0      0     0     0\n",
      "1    2019      8   25       2     1      1      1     1     1\n",
      "2    2019      8   26       3     0      0      0     0     0\n",
      "3    2019      8   27       4     0      1      0     0     0\n",
      "4    2019      8   28       5     0      0      0     0     0\n",
      "..    ...    ...  ...     ...   ...    ...    ...   ...   ...\n",
      "205  2020      3   17     206     0      0      0     0     0\n",
      "206  2020      3   18     207     0      1      0     1     0\n",
      "207  2020      3   19     208     0      0      0     0     0\n",
      "208  2020      3   20     209     0      0      0     0     0\n",
      "209  2020      3   21     210     0      0      0     0     0\n",
      "\n",
      "[210 rows x 9 columns]\n"
     ]
    }
   ],
   "source": [
    "print(dataset)"
   ]
  },
  {
   "cell_type": "code",
   "execution_count": 103,
   "metadata": {},
   "outputs": [],
   "source": [
    "eggs = dataset[[\"eggs\"]].values\n",
    "milks = dataset[[\"milk\"]].values\n",
    "bread = dataset[[\"bread\"]].values\n",
    "onions   = dataset[[\"onion\"]].values\n",
    "meat = dataset[[\"meat\"]].values\n"
   ]
  },
  {
   "cell_type": "code",
   "execution_count": 104,
   "metadata": {},
   "outputs": [],
   "source": [
    "w = []\n",
    "countW = 0\n"
   ]
  },
  {
   "cell_type": "code",
   "execution_count": 105,
   "metadata": {},
   "outputs": [],
   "source": [
    "for egg in eggs:\n",
    "    \n",
    "    countW = countW+1\n",
    "    w.append(countW)\n",
    "    if egg != 0:\n",
    "        countW = 0\n",
    "dataset[\"eggs_w\"] = w\n",
    "        \n",
    "w = []\n",
    "countW = 0\n",
    "\n",
    "for milk in milks:\n",
    "    \n",
    "    countW = countW+1\n",
    "    w.append(countW)\n",
    "    if milk != 0:\n",
    "        countW = 0\n",
    "\n",
    "dataset[\"milk_w\"] = w        \n",
    "\n",
    "w = []\n",
    "countW = 0\n",
    "        \n",
    "for b in bread:\n",
    "    \n",
    "    countW = countW+1\n",
    "    w.append(countW)\n",
    "    if b != 0:\n",
    "        countW = 0\n",
    "\n",
    "dataset[\"bread_w\"] = w\n",
    "\n",
    "w = []\n",
    "countW = 0\n",
    "        \n",
    "for onion in onions:\n",
    "    \n",
    "    countW = countW+1\n",
    "    w.append(countW)\n",
    "    if onion != 0:\n",
    "        countW = 0\n",
    "dataset[\"onion_w\"] = w\n",
    "\n",
    "w = []\n",
    "countW = 0\n",
    "        \n",
    "for m in meat:\n",
    "    \n",
    "    countW = countW+1\n",
    "    w.append(countW)\n",
    "    if m != 0:\n",
    "        countW = 0\n",
    "        \n",
    "dataset[\"meat_w\"] = w\n",
    "    "
   ]
  },
  {
   "cell_type": "code",
   "execution_count": 106,
   "metadata": {},
   "outputs": [
    {
     "name": "stdout",
     "output_type": "stream",
     "text": [
      "210\n"
     ]
    }
   ],
   "source": [
    "print(len(dataset))"
   ]
  },
  {
   "cell_type": "code",
   "execution_count": 30,
   "metadata": {},
   "outputs": [],
   "source": [
    "dataset.to_csv(\"udataset.csv\")\n",
    "emptyIndex = []\n",
    "index = 0\n",
    "for row in dataset.iloc[:, 4:9].values:\n",
    "    if all(r == 0 for r in row):\n",
    "        emptyIndex.append(index)\n",
    "    index = index + 1"
   ]
  },
  {
   "cell_type": "code",
   "execution_count": 32,
   "metadata": {},
   "outputs": [
    {
     "name": "stdout",
     "output_type": "stream",
     "text": [
      "[2, 4, 6, 7, 9, 10, 12, 14, 15, 16, 17, 18, 19, 20, 23, 24, 25, 26, 28, 29, 30, 32, 33, 34, 37, 38, 40, 41, 42, 44, 46, 47, 48, 51, 52, 54, 56, 57, 58, 59, 60, 61, 63, 64, 65, 66, 70, 71, 73, 74, 75, 76, 78, 79, 80, 82, 83, 86, 87, 88, 89, 91, 93, 94, 95, 96, 97, 98, 101, 103, 105, 106, 108, 109, 111, 113, 114, 115, 116, 117, 118, 119, 122, 123, 124, 125, 127, 128, 129, 131, 132, 133, 136, 137, 139, 140, 141, 145, 146, 148, 150, 151, 152, 153, 154, 155, 157, 158, 159, 160, 164, 165, 167, 168, 169, 170, 172, 173, 174, 176, 177, 180, 181, 182, 183, 185, 187, 188, 189, 190, 191, 192, 195, 197, 199, 200, 202, 203, 205, 207, 208, 209]\n"
     ]
    },
    {
     "data": {
      "text/plain": [
       "142"
      ]
     },
     "execution_count": 32,
     "metadata": {},
     "output_type": "execute_result"
    }
   ],
   "source": [
    "print(emptyIndex)\n",
    "len(emptyIndex)"
   ]
  },
  {
   "cell_type": "code",
   "execution_count": 33,
   "metadata": {},
   "outputs": [],
   "source": [
    "dd = dataset.drop(emptyIndex, axis = 0)"
   ]
  },
  {
   "cell_type": "code",
   "execution_count": 34,
   "metadata": {},
   "outputs": [
    {
     "name": "stdout",
     "output_type": "stream",
     "text": [
      "     year  month  day  offset  meat  bread  onion  eggs  milk  eggs_w  milk_w  \\\n",
      "0    2019      8   24       1     1      0      0     0     0       1       1   \n",
      "1    2019      8   25       2     1      1      1     1     1       2       2   \n",
      "3    2019      8   27       4     0      1      0     0     0       2       2   \n",
      "5    2019      8   29       6     1      1      1     1     1       4       4   \n",
      "8    2019      9    1       9     1      1      0     0     0       3       3   \n",
      "..    ...    ...  ...     ...   ...    ...    ...   ...   ...     ...     ...   \n",
      "196  2020      3    8     197     0      1      0     0     0       2       2   \n",
      "198  2020      3   10     199     1      1      1     1     1       4       4   \n",
      "201  2020      3   13     202     1      1      0     0     0       3       3   \n",
      "204  2020      3   16     205     0      1      0     1     1       6       6   \n",
      "206  2020      3   18     207     0      1      0     1     0       2       2   \n",
      "\n",
      "     bread_w  onion_w  meat_w  \n",
      "0          1        1       1  \n",
      "1          2        2       1  \n",
      "3          2        2       2  \n",
      "5          2        4       4  \n",
      "8          3        3       3  \n",
      "..       ...      ...     ...  \n",
      "196        2        2       2  \n",
      "198        2        4       4  \n",
      "201        3        3       3  \n",
      "204        3        6       3  \n",
      "206        2        8       5  \n",
      "\n",
      "[68 rows x 14 columns]\n"
     ]
    }
   ],
   "source": [
    "print(dd)"
   ]
  },
  {
   "cell_type": "code",
   "execution_count": 158,
   "metadata": {},
   "outputs": [],
   "source": [
    "y_train = dd.iloc[:, [-6]].values\n",
    "X_train = dd.iloc[:, [-4]].values\n",
    "\n",
    "\n",
    "X_test = []\n",
    "for it in range(1,30):\n",
    "    X_test.append([it])\n",
    "\n",
    "X_test = np.asarray(X_test)"
   ]
  },
  {
   "cell_type": "code",
   "execution_count": 152,
   "metadata": {},
   "outputs": [
    {
     "name": "stdout",
     "output_type": "stream",
     "text": [
      "[[10]]\n"
     ]
    }
   ],
   "source": [
    "print(X_test)"
   ]
  },
  {
   "cell_type": "code",
   "execution_count": 153,
   "metadata": {},
   "outputs": [
    {
     "name": "stderr",
     "output_type": "stream",
     "text": [
      "C:\\Users\\yrtie\\AppData\\Local\\Continuum\\anaconda3\\lib\\site-packages\\sklearn\\linear_model\\logistic.py:432: FutureWarning: Default solver will be changed to 'lbfgs' in 0.22. Specify a solver to silence this warning.\n",
      "  FutureWarning)\n",
      "C:\\Users\\yrtie\\AppData\\Local\\Continuum\\anaconda3\\lib\\site-packages\\sklearn\\utils\\validation.py:724: DataConversionWarning: A column-vector y was passed when a 1d array was expected. Please change the shape of y to (n_samples, ), for example using ravel().\n",
      "  y = column_or_1d(y, warn=True)\n"
     ]
    }
   ],
   "source": [
    "# Feature Scaling\n",
    "from sklearn.preprocessing import StandardScaler\n",
    "sc = StandardScaler()\n",
    "X_train = sc.fit_transform(X_train)\n",
    "X_test = sc.transform(X_test)\n",
    "    \n",
    "# Fitting Logistic Regression to the Training set\n",
    "from sklearn.linear_model import LogisticRegression\n",
    "classifier = LogisticRegression(random_state = 0)\n",
    "classifier.fit(X_train, y_train)\n",
    "    \n",
    "# Predicting the Test set results\n",
    "y_pred = classifier.predict(X_test)\n",
    "    \n"
   ]
  },
  {
   "cell_type": "code",
   "execution_count": 154,
   "metadata": {},
   "outputs": [
    {
     "name": "stdout",
     "output_type": "stream",
     "text": [
      "[1]\n"
     ]
    }
   ],
   "source": [
    "print(y_pred)"
   ]
  },
  {
   "cell_type": "code",
   "execution_count": null,
   "metadata": {},
   "outputs": [],
   "source": [
    "# Making the Confusion Matrix\n",
    "from sklearn.metrics import confusion_matrix\n",
    "cm = confusion_matrix(y_test, y_pred)"
   ]
  },
  {
   "cell_type": "code",
   "execution_count": null,
   "metadata": {},
   "outputs": [],
   "source": []
  },
  {
   "cell_type": "code",
   "execution_count": 83,
   "metadata": {},
   "outputs": [
    {
     "name": "stdout",
     "output_type": "stream",
     "text": [
      "[[11  6]\n",
      " [ 4 17]]\n"
     ]
    }
   ],
   "source": [
    "print(cm)"
   ]
  },
  {
   "cell_type": "code",
   "execution_count": 159,
   "metadata": {},
   "outputs": [
    {
     "name": "stdout",
     "output_type": "stream",
     "text": [
      "[0 0 0 1 1 1 0 1 1 1 1 1 1 1 1 1 1 1 1 1 1 1 1 1 1 1 1 1 1]\n"
     ]
    }
   ],
   "source": [
    "from sklearn.tree import DecisionTreeClassifier\n",
    "classifier = DecisionTreeClassifier(criterion = 'entropy', random_state = 0)\n",
    "classifier.fit(X_train, y_train)\n",
    "    \n",
    "# Predicting the Test set results\n",
    "y_pred = classifier.predict(X_test)\n",
    "print(y_pred)\n",
    "    \n",
    "\n",
    "\n"
   ]
  },
  {
   "cell_type": "code",
   "execution_count": null,
   "metadata": {},
   "outputs": [],
   "source": [
    "# Making the Confusion Matrix\n",
    "from sklearn.metrics import confusion_matrix\n",
    "cm = confusion_matrix(y_test, y_pred)\n",
    "print(cm)"
   ]
  },
  {
   "cell_type": "code",
   "execution_count": 94,
   "metadata": {},
   "outputs": [
    {
     "name": "stdout",
     "output_type": "stream",
     "text": [
      "[[11  6]\n",
      " [ 4 17]]\n"
     ]
    },
    {
     "name": "stderr",
     "output_type": "stream",
     "text": [
      "C:\\Users\\yrtie\\AppData\\Local\\Continuum\\anaconda3\\lib\\site-packages\\sklearn\\utils\\validation.py:724: DataConversionWarning: A column-vector y was passed when a 1d array was expected. Please change the shape of y to (n_samples, ), for example using ravel().\n",
      "  y = column_or_1d(y, warn=True)\n"
     ]
    }
   ],
   "source": [
    "# Fitting Naive Bayes to the Training set\n",
    "from sklearn.naive_bayes import GaussianNB\n",
    "classifier = GaussianNB()\n",
    "classifier.fit(X_train, y_train)\n",
    "    \n",
    "# Predicting the Test set results\n",
    "y_pred = classifier.predict(X_test)\n",
    "    \n",
    "# Making the Confusion Matrix\n",
    "from sklearn.metrics import confusion_matrix\n",
    "cm = confusion_matrix(y_test, y_pred)\n",
    "print(cm)"
   ]
  }
 ],
 "metadata": {
  "kernelspec": {
   "display_name": "Python 3",
   "language": "python",
   "name": "python3"
  },
  "language_info": {
   "codemirror_mode": {
    "name": "ipython",
    "version": 3
   },
   "file_extension": ".py",
   "mimetype": "text/x-python",
   "name": "python",
   "nbconvert_exporter": "python",
   "pygments_lexer": "ipython3",
   "version": "3.7.4"
  }
 },
 "nbformat": 4,
 "nbformat_minor": 2
}
